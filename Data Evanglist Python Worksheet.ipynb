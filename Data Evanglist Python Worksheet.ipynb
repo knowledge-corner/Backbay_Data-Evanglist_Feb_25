{
 "cells": [
  {
   "cell_type": "markdown",
   "id": "6678b456-3aaa-411d-b2e3-df1901b757a6",
   "metadata": {},
   "source": [
    "## Introduction to python programming"
   ]
  },
  {
   "cell_type": "markdown",
   "id": "38dc10c9-309a-4a35-9849-335bfb89f1a3",
   "metadata": {},
   "source": [
    "#### Python is – \n",
    "- Open source\n",
    "- Interpreter based\n",
    "- Platform independent\n",
    "- Current version – 3.13.x\n",
    "- Download it from here - https://www.python.org/download/releases/3.0/\n",
    "     "
   ]
  },
  {
   "cell_type": "markdown",
   "id": "65ab3bc8-a252-480e-9309-058f23641043",
   "metadata": {},
   "source": [
    "### Python Data Types\n",
    "\n",
    "<table style=\"width: 50%; border-collapse: collapse; border: 1px solid #ccc; text-align: left;float: left; margin-right: 10px;\">\n",
    "    <thead>\n",
    "    <tr style=\"background-color: #050A30; color: white;\">\n",
    "            <th>Type</th>\n",
    "            <th>Description</th>\n",
    "            <th>Example</th>\n",
    "        </tr>\n",
    "    </thead>\n",
    "    <tbody>\n",
    "        <tr>\n",
    "            <td>int</td>\n",
    "            <td>Integer numbers</td>\n",
    "            <td>42, -7</td>\n",
    "        </tr>\n",
    "        <tr>\n",
    "            <td>float</td>\n",
    "            <td>Floating-point numbers (decimal)</td>\n",
    "            <td>3.14, -0.001</td>\n",
    "        </tr>\n",
    "        <tr>\n",
    "            <td>complex</td>\n",
    "            <td>Complex numbers</td>\n",
    "            <td>1+2j, -3+4j</td>\n",
    "        </tr>\n",
    "        <tr>\n",
    "            <td>bool</td>\n",
    "            <td>Boolean values, either True or False</td>\n",
    "            <td>True, False</td>\n",
    "        </tr>\n",
    "        <tr>\n",
    "            <td>str</td>\n",
    "            <td>String, a sequence of characters</td>\n",
    "            <td>\"hello\", 'world'</td>\n",
    "        </tr>\n",
    "    </tbody>\n",
    "</table>\n",
    "\n"
   ]
  },
  {
   "cell_type": "markdown",
   "id": "cf4fb522-2f2a-40df-aa7a-3bce32a3db94",
   "metadata": {},
   "source": [
    "#### Examples - "
   ]
  },
  {
   "cell_type": "markdown",
   "id": "8461aee5-285d-46e0-9aeb-f226297f091c",
   "metadata": {},
   "source": [
    "###### Ex. Calculate Gross Pay\n",
    "- Take hours worked and rate per hour as input from the user."
   ]
  },
  {
   "cell_type": "code",
   "execution_count": null,
   "id": "79048232-0d28-4b3a-9fe9-e66de4005eae",
   "metadata": {},
   "outputs": [],
   "source": []
  },
  {
   "cell_type": "markdown",
   "id": "ba5ed7af-6864-40e0-b0e6-61cba3b2c40f",
   "metadata": {},
   "source": [
    "###### Ex. Write a Python program that calculates the area of a circle based on the radius entered by the user."
   ]
  },
  {
   "cell_type": "code",
   "execution_count": null,
   "id": "7e951d68-917a-4381-8e19-81765161dd4f",
   "metadata": {},
   "outputs": [],
   "source": []
  },
  {
   "cell_type": "markdown",
   "id": "afac4070-95c4-47f1-881f-ccf7fa754e8c",
   "metadata": {},
   "source": [
    "###### Ex. Write a Python program that accepts the user's first and last name and prints them in reverse order with a space between them."
   ]
  },
  {
   "cell_type": "code",
   "execution_count": null,
   "id": "51f347cb-6069-4350-95d5-875fb49036c2",
   "metadata": {},
   "outputs": [],
   "source": []
  },
  {
   "cell_type": "markdown",
   "id": "a440a5a9-a6cd-4fe3-a5ee-3e3ed5e7c8ee",
   "metadata": {},
   "source": [
    "###### Ex. Write a Python program to find those numbers which are divisible by 7 and multiples of 5, between 1500 and 2700"
   ]
  },
  {
   "cell_type": "code",
   "execution_count": null,
   "id": "75df93cf-7da8-42b7-9fa2-292266cbce4e",
   "metadata": {},
   "outputs": [],
   "source": []
  },
  {
   "cell_type": "markdown",
   "id": "fe0edbc5-871a-4b63-9fc7-f7742f881353",
   "metadata": {},
   "source": [
    "###### Ex. Toss a Coin\n",
    "- Take the user's guess as input (either \"heads\" or \"tails\").\n",
    "- Generate a random outcome of either \"heads\" or \"tails\".\n",
    "- Compare the user's guess with the random outcome and print whether they \"win\" or \"lose\"."
   ]
  },
  {
   "cell_type": "code",
   "execution_count": null,
   "id": "4e58e086-23f8-4463-8305-2cd6debc2a58",
   "metadata": {},
   "outputs": [],
   "source": []
  },
  {
   "cell_type": "markdown",
   "id": "01ac0900-c5db-41ce-b5f0-0e5c207d6f12",
   "metadata": {},
   "source": [
    "###### Ex. Generate and print numbers from 1-10"
   ]
  },
  {
   "cell_type": "code",
   "execution_count": null,
   "id": "f44b6428-dccd-46df-99bb-c1b4282e28c1",
   "metadata": {},
   "outputs": [],
   "source": []
  },
  {
   "cell_type": "markdown",
   "id": "e6472eae-d48f-40ee-894c-d0b94fe6b26f",
   "metadata": {},
   "source": [
    "###### Ex. Calculate sum and product of the numbers from 1-10"
   ]
  },
  {
   "cell_type": "code",
   "execution_count": null,
   "id": "6cc258d0-a6f9-4c4e-badb-16ed164dcf2c",
   "metadata": {},
   "outputs": [],
   "source": []
  },
  {
   "cell_type": "markdown",
   "id": "2e5d28a5-0392-4e86-9875-accdb8d2c593",
   "metadata": {},
   "source": [
    "###### Ex. Given list stores marks of a student in 5 subjects out of 100. Calculate his percentage"
   ]
  },
  {
   "cell_type": "code",
   "execution_count": null,
   "id": "67244dbf-d104-4374-85e7-94b36acd0256",
   "metadata": {},
   "outputs": [],
   "source": [
    "marks = [80, 74, 60, 90, 85]"
   ]
  },
  {
   "cell_type": "markdown",
   "id": "cb2a4f9d-3828-4e53-8565-a55d18604a8d",
   "metadata": {},
   "source": [
    "<hr><hr>"
   ]
  },
  {
   "cell_type": "markdown",
   "id": "f4c1f052-8670-4df2-834d-00b816487d44",
   "metadata": {},
   "source": [
    "## Introduction to pandas library"
   ]
  },
  {
   "cell_type": "markdown",
   "id": "8a4074f1-92a6-48da-a201-5119d45e7b9c",
   "metadata": {},
   "source": [
    "###### Ex. Include all import statements"
   ]
  },
  {
   "cell_type": "code",
   "execution_count": null,
   "id": "bd5fed72-c841-4f8c-957e-2a6c60e37a4a",
   "metadata": {},
   "outputs": [],
   "source": []
  },
  {
   "cell_type": "markdown",
   "id": "4eb8c490-933f-4750-9dea-012b01356c6b",
   "metadata": {},
   "source": [
    "###### Ex. Read data from file \"employee.csv\" into a dataframe"
   ]
  },
  {
   "cell_type": "code",
   "execution_count": null,
   "id": "fac3619b-a148-44a4-8a4a-daf8be1f3b17",
   "metadata": {},
   "outputs": [],
   "source": []
  },
  {
   "cell_type": "markdown",
   "id": "45642eda-0642-4303-90b0-a49e8d3bc0dc",
   "metadata": {},
   "source": [
    "###### Ex. Display top 5 and bottom 5 rows in the dataframe"
   ]
  },
  {
   "cell_type": "code",
   "execution_count": null,
   "id": "c3e8eecf-06ad-4001-a0c5-a5984f388549",
   "metadata": {},
   "outputs": [],
   "source": []
  },
  {
   "cell_type": "markdown",
   "id": "a6e8b420-7e43-419c-b5b3-81d6a5f8ec3e",
   "metadata": {},
   "source": [
    "###### Ex. Display the data in the dataframe in DESC order of Salary"
   ]
  },
  {
   "cell_type": "code",
   "execution_count": null,
   "id": "04a90c11-5edf-4c56-b1d1-25cee756f0e3",
   "metadata": {},
   "outputs": [],
   "source": []
  },
  {
   "cell_type": "markdown",
   "id": "d800c4e5-b185-4ebf-8543-3fee3cd16209",
   "metadata": {},
   "source": [
    "###### Ex. Extract all names from the dataframe"
   ]
  },
  {
   "cell_type": "code",
   "execution_count": null,
   "id": "f7de1f64-8ba1-45f6-b5d0-41073b2225ed",
   "metadata": {},
   "outputs": [],
   "source": []
  },
  {
   "cell_type": "markdown",
   "id": "d0f28cb9-9fb1-4b2e-bc1b-14b9cd776a54",
   "metadata": {},
   "source": [
    "###### Ex. Extract age of all employees and calculate average age from the dataframe"
   ]
  },
  {
   "cell_type": "code",
   "execution_count": null,
   "id": "ce0a7a77-c7e9-4b58-b669-467f456ef7ea",
   "metadata": {},
   "outputs": [],
   "source": []
  },
  {
   "cell_type": "markdown",
   "id": "4970c0d1-8ae4-4e2f-a95e-2c9f80141c7b",
   "metadata": {},
   "source": [
    "###### Ex. Extract data for all the Managers"
   ]
  },
  {
   "cell_type": "code",
   "execution_count": null,
   "id": "f6accbef-f699-4847-add8-633b5b353b84",
   "metadata": {},
   "outputs": [],
   "source": []
  },
  {
   "cell_type": "markdown",
   "id": "2d85467f-464b-4f46-8b63-8706e2066a23",
   "metadata": {},
   "source": [
    "###### Ex. What is average age of Managers?"
   ]
  },
  {
   "cell_type": "code",
   "execution_count": null,
   "id": "c0f6065f-0508-437c-b78e-2c4e1e139929",
   "metadata": {},
   "outputs": [],
   "source": []
  },
  {
   "cell_type": "markdown",
   "id": "dd8b0a41-b58c-45ef-98dd-a7755ad69ec5",
   "metadata": {},
   "source": [
    "###### Ex. Create a new column as \"New Salary\" by applying 10% increament to all the salary values"
   ]
  },
  {
   "cell_type": "code",
   "execution_count": null,
   "id": "ad57ca9c-2ab2-46f5-ba1e-20543a1ff494",
   "metadata": {},
   "outputs": [],
   "source": []
  },
  {
   "cell_type": "markdown",
   "id": "b196ac7f-e942-4559-830f-880569a717fa",
   "metadata": {},
   "source": [
    "###### Ex. Drop original Salary column"
   ]
  },
  {
   "cell_type": "code",
   "execution_count": null,
   "id": "699df7b5-8c93-4778-98b2-52f4e4104325",
   "metadata": {},
   "outputs": [],
   "source": []
  },
  {
   "cell_type": "markdown",
   "id": "4b3c63f9-8e4e-4a19-a319-4ee0103b4a32",
   "metadata": {},
   "source": [
    "###### Ex. Rename the \"New Salary\" to \"Salary\""
   ]
  },
  {
   "cell_type": "code",
   "execution_count": null,
   "id": "23cff630-f1a6-434d-930a-a62c6ad0a790",
   "metadata": {},
   "outputs": [],
   "source": []
  },
  {
   "cell_type": "markdown",
   "id": "ec4c52ca-4133-4e12-b4cf-80d81fb46370",
   "metadata": {},
   "source": [
    "###### Ex. Add details of employee \"Anna\" who has newly joined"
   ]
  },
  {
   "cell_type": "code",
   "execution_count": null,
   "id": "607a9537-cca3-475e-8157-a8604bbf5a22",
   "metadata": {},
   "outputs": [],
   "source": []
  },
  {
   "cell_type": "markdown",
   "id": "fa6f580d-f87e-40f2-b6ff-ec2d4eee9dba",
   "metadata": {},
   "source": [
    "###### Ex. How many employees are there in the dataset?"
   ]
  },
  {
   "cell_type": "code",
   "execution_count": null,
   "id": "7b20dd9d-dbef-4c3c-9164-24825aa67974",
   "metadata": {},
   "outputs": [],
   "source": []
  },
  {
   "cell_type": "markdown",
   "id": "26f3041b-3cdc-4c5d-99f0-18c789f147cf",
   "metadata": {},
   "source": [
    "###### Ex. Display list of distinct job roles in the dataset."
   ]
  },
  {
   "cell_type": "code",
   "execution_count": null,
   "id": "ceaca449-c3a1-4294-a941-4a37634290b0",
   "metadata": {},
   "outputs": [],
   "source": []
  },
  {
   "cell_type": "markdown",
   "id": "213eff54-4773-4af9-8785-d1bf4ca375bf",
   "metadata": {},
   "source": [
    "###### Ex. Display number of employees belonging to each job role."
   ]
  },
  {
   "cell_type": "code",
   "execution_count": null,
   "id": "1ee2f4b7-7d8c-4bb6-b15f-6156eb6badbb",
   "metadata": {},
   "outputs": [],
   "source": []
  },
  {
   "cell_type": "markdown",
   "id": "644605ca-36fb-4c5c-b09a-17948138d8ca",
   "metadata": {},
   "source": [
    "###### Ex. Display average age and average salary of employees belonging to each job roles."
   ]
  },
  {
   "cell_type": "code",
   "execution_count": null,
   "id": "f873f3ef-73a0-40a1-8e8e-938b2f4d1cb3",
   "metadata": {},
   "outputs": [],
   "source": []
  },
  {
   "cell_type": "markdown",
   "id": "6fdea854-b2a5-4014-a74e-a76c25498ea0",
   "metadata": {},
   "source": [
    "<hr><hr>"
   ]
  },
  {
   "cell_type": "markdown",
   "id": "2589585b-0793-47f8-8bd9-6af67ced94e5",
   "metadata": {},
   "source": [
    "## Introduction to Explolatory Data Analysis"
   ]
  },
  {
   "cell_type": "markdown",
   "id": "51cabdc1-d5d4-4457-9dbd-c9f1524d95cb",
   "metadata": {},
   "source": [
    "### Types of data \n",
    "#### Numerical (Quantitative) Data:\n",
    "\n",
    "Numerical data consists of numbers and is measured on a continuous or discrete scale.\n",
    "- Continuous numerical data can take any value within a range (e.g., height, temperature).\n",
    "- Discrete numerical data can take only specific, distinct values (e.g., number of siblings, number of cars).\n",
    "\n",
    "#### Categorical (Qualitative) Data:\n",
    "\n",
    "Categorical data represents categories or labels and is not inherently numerical.\n",
    "- Nominal categorical data has categories with no inherent order or ranking (e.g., gender, eye color).\n",
    "- Ordinal categorical data has categories with a specific order or ranking (e.g., education level, socioeconomic status).\n",
    "\n",
    "### Population and Sample\n",
    "\n",
    "#### Population:\n",
    "\n",
    "The population is the entire group or set of individuals, items, or elements that you are interested in studying and drawing conclusions about. It represents the complete set of possible observations that share a common characteristic or attribute.\n",
    "For example, if you are studying the heights of all adult males in a country, the population would consist of the heights of all adult males in that country.\n",
    "\n",
    "#### Sample:\n",
    "\n",
    "A sample is a subset or a smaller representative group selected from the population.\n",
    "It is used to make inferences or draw conclusions about the population without having to collect data from every individual in the population.\n",
    "\n",
    "The process of selecting a sample from the population is known as sampling.\n",
    "For example, instead of measuring the heights of all adult males in a country (which may be impractical or too costly), you might select a random sample of adult males and measure their heights to estimate the average height of the entire population.\n",
    "\n",
    "#### Key points to note about population and sample:\n",
    "\n",
    "- The population represents the entire group under study, while the sample represents a subset of that group.\n",
    "- In many cases, it is not feasible or practical to collect data from the entire population, so researchers use samples to make inferences about the population.\n",
    "- The goal of sampling is to obtain a representative sample that accurately reflects the characteristics of the population.\n",
    "Statistical techniques are used to analyze sample data and make generalizations or predictions about th##e population.\n",
    "\n",
    "#### Characteristics of Population\n",
    "\n",
    "- Mean (Average): The mean of a population is the average value of a quantitative variable across all individuals in the population. It represents the central tendency of the population distribution.\n",
    "\n",
    "- Median: The median of a population is the middle value of a quantitative variable when all observations are arranged in ascending order. It is another measure of central tendency that is less affected by extreme values (outliers) compared to the mean.\n",
    "\n",
    "- Mode: The mode of a population is the most frequently occurring value or category of a variable. It represents the value with the highest frequency in the population distribution.\n",
    "\n",
    "- Variance: The variance of a population measures the spread or dispersion of values around the mean. It quantifies the average squared deviation of individual observations from the mean.\n",
    "\n",
    "- Standard Deviation: The standard deviation of a population is the square root of the variance. It provides a measure of the average distance between individual observations and the mean.\n",
    "\n",
    "- Range: The range of a population is the difference between the maximum and minimum values of a variable. It provides a simple measure of the spread of values in the population.\n",
    "\n",
    "- Distribution: The distribution of a population describes how the values of a variable are spread or distributed across the population. Common types of distributions include normal (bell-shaped), skewed (asymmetric), and ##uniform (evenly distributed).\n",
    "\n",
    "#### Characteristics of a Sample\n",
    "\n",
    "- Sample Size: The sample size is the number of observations or individuals included in the sample. It represents the amount of data available for analysis and inference.\n",
    "- Sampling Method: The sampling method describes how the sample was selected from the population. Common sampling methods include simple random sampling, stratified sampling, cluster sampling, and systematic sampling.\n",
    "\n",
    "- Descriptive Statistics: Descriptive statistics summarize the main features of the sample data. Common descriptive statistics include measures of central tendency (mean, median, mode), measures of dispersion (range, variance, standard deviation), and measures of shape (skewness, kurtosis).\n",
    "\n",
    "- Sample Proportion: The sample proportion represents the fraction or percentage of observations with a specific attribute or characteristic in the sample. It provides insights into the relative frequency of different categories in the sample.\n",
    "\n",
    "- Confidence Interval: The confidence interval is a range of values that is likely to contain the true population parameter with a certain level of confidence. It is used to estimate the precision or uncertainty of sample statistics, such as the sample mean or proportion.\n",
    "\n",
    "- Sampling Bias: Sampling bias refers to the systematic distortion or deviation of the sample from the population due to the sampling method used. It can affect the representativeness and generalizability of the sample data to the population. the sample data to the population. distributed).\n"
   ]
  },
  {
   "cell_type": "markdown",
   "id": "26c9b013-e04f-414d-9d60-c3b2e9cd7c06",
   "metadata": {},
   "source": [
    "### Types of Variables \n",
    "\n",
    "- Features: Features, also known as independent variables or input variables, are the attributes or characteristics of the data that are used as input to the machine learning model to make predictions. Features represent the variables that the model learns from to make predictions or classifications. Each feature can be either numerical or categorical and may have different scales or levels of measurement.\n",
    "\n",
    "- Labels: Labels, also known as target variables or dependent variables, are the outputs or predictions that the machine learning model aims to predict based on the input features. Labels represent the target variable that the model is trying to learn or predict. In supervised learning tasks, the labels are typically known for a subset of the data, and the goal is to train the model to accurately predict the labels for unseen data.\n",
    "\n",
    "### Descriptive Statistics\n",
    "\n",
    "Descriptive statistics deals with summarizing and describing the features of a dataset or sample. Descriptive statistics provides a summary of the main features of the data, including measures of central tendency, dispersion, shape, and relationships between variables.\n",
    "\n",
    "#### Measures of Central Tendency:\n",
    "    - Mean: The average value of the data points.\n",
    "    - Median: The middle value of the data when arranged in ascending order.\n",
    "    - Mode: The most frequently occurring value in the dataset.\n",
    "\n",
    "#### Measures of Dispersion:\n",
    "    - Range: The difference between the maximum and minimum values in the dataset.\n",
    "    - Variance: The average of the squared differences from the mean.\n",
    "    - Standard Deviation: The square root of the variance, representing the average deviation from the mean.\n",
    "\n",
    "#### Measures of Shape:\n",
    "    - Skewness: A measure of the asymmetry of the distribution.\n",
    "        - Positive skewness indicates a longer right tail and a concentration of data on the left side.\n",
    "        - Negative skewness indicates a longer left tail and a concentration of data on the right side.\n",
    "        - Skewness close to zero indicates approximate symmetry around the mean.\n",
    "\n",
    "    - Kurtosis: A measure of the \"peakedness\" or \"flatness\" of the distribution.\n",
    "        - Positive kurtosis indicates heavy tails and a sharp peak (leptokurtic).\n",
    "        - Negative kurtosis indicates light tails and a flat peak (platykurtic).\n",
    "        - A kurtosis of 0 indicates a distribution with similar tails to the normal distribution (mesokurtic).\n",
    "\n",
    "#### Frequency Distribution:\n",
    "    - Frequency table: A table that shows the frequency or count of each value in the dataset.\n",
    "    - Histogram: A graphical representation of the frequency distribution, showing the distribution of values in bins or intervals.\n",
    "\n",
    "#### Measures of Association:\n",
    "    - Correlation: A measure of the strength and direction of the linear relationship between two variables.\n",
    "    - Covariance: A measure of the joint variability between two variables."
   ]
  },
  {
   "cell_type": "markdown",
   "id": "f13dbece-0167-4cfc-bd6b-d4c06fb749ef",
   "metadata": {},
   "source": [
    "#### Example 1 - \n",
    "- Find Mean, Median, Mode, Range, Standard Deviation, Skewness, Kurtosis, Frequency Distribution - Histogram"
   ]
  },
  {
   "cell_type": "code",
   "execution_count": null,
   "id": "0374c8e8-3b20-41fd-ae28-527fb9af1270",
   "metadata": {},
   "outputs": [],
   "source": [
    "# dataset consists of weights children in the age group of 0 to 10 years\n",
    "weights = np.array([20.8,15.3,23.2,15.5,17.5,27.3,23.3,20.5,16.4,17.4,22.6,20.8,16.7,29.1,14.2,18.5,17.6,17.1,18.2,26.0,25.6,19.1,17.8,21.6,19.6,28.4,19.4,22.8,25.9,27.1,20.8,21.9,15.4,30.2,23.0,25.0,24.0,17.1,18.8,25.8,23.2,14.9,20.4,15.0,12.3,17.6,10.3,12.1,25.8,21.9,9.9,24.8,17.9,22.0,27.6,21.7,26.3,19.9,16.6,17.8,8.0,21.5,17.9,33.6,20.4,21.9,19.8,15.3,25.6,24.7,10.6,22.1,18.8,9.8,14.9,18.7,27.6,21.2,25.1,21.9,22.1,19.6,10.4,17.2,18.3,21.2,21.1,21.0,19.1,14.8,19.2,18.3,22.1,14.1,19.3,16.2,25.6,14.8,22.3,25.0,20.8,21.2,16.6,15.0,15.6,24.7,26.1,18.1,14.1,25.5,21.4,32.7,13.8,27.4,15.8,18.4,21.3,27.5,15.8,27.2,26.9,16.2,22.6,15.3,22.5,26.6,24.7,28.4,28.0,19.9,9.9,16.5,19.5,11.7,27.9,28.1,21.1,20.0,14.5,25.9,13.3,15.8,21.3,10.7,14.6,19.9,21.6,26.6,26.0,23.7,20.5,11.8,15.6,14.9,24.6,20.9,24.5,26.8,25.3,30.9,26.1,14.9,17.9,18.5,25.7,16.4,8.2,24.1,19.5,13.1,17.6,13.4,24.4,16.4,19.9,12.9,14.3,25.4,15.4,17.7,17.3,18.7,16.1,7.4,18.4,16.2,18.7,19.8,25.6,23.7,22.5,20.5,14.9,25.0,4.7,6.8,21.8,22.2,24.4,13.4,32.1,26.6,27.2,17.8,19.6,16.8,14.4,24.9,12.6,15.0,15.4,10.1,12.9,15.9,22.3,15.0,24.4,21.0,17.2,25.2,15.6,24.6,24.9,13.6,10.3,25.6,18.3,25.1,18.1,20.2,29.1,25.7,14.9,11.4,19.2,21.5,13.9,19.5,19.1,23.0,26.8,14.8,24.4,14.7,24.3,24.5,19.9,12.1,21.2,16.4,19.5,25.8,8.5,19.8,23.4,21.3,14.7,17.9,15.7,14.9,5.2,3.8,31.5,17.4,16.0,20.7,18.4,8.1,22.9,32.8,19.0,33.0,26.0,14.2,18.4,15.1,29.5,13.9,5.1,28.1,18.2,10.5,27.8,19.4,13.1,21.9,18.6,11.0,19.7,20.2,20.1,17.6,21.6,21.2,30.0,26.1,20.5,22.8,20.5,19.6,18.0,19.8,21.8,7.0,21.4,22.5,18.9,15.1,22.0,25.5,11.1,15.4,21.5,13.5,11.2,19.3,25.5,20.2,18.3,15.3,40.3,22.1,23.2,17.1,19.4,15.3,28.6,23.0,19.4,16.7,20.9,21.1,15.9,29.6,17.0,19.0,20.8,20.4,9.8,24.0,15.2,26.2,22.0,21.4,16.2,29.2,21.4,28.9,16.9,21.9,11.2,19.0,21.2,20.8,9.3,12.5,26.9,10.7,18.9,17.5,23.3,12.5,13.4,26.3,23.0,21.8,25.6,20.7,18.0,32.5,25.6,8.4,19.8,24.5,18.0,24.7,21.3,12.9,21.6,29.1,25.8,26.4,27.0,25.6,19.0,20.0,10.4,17.5,19.5,17.5,21.1,19.6,23.1,18.2,27.0,18.5,19.3,25.4,20.8,20.8,20.6,20.4,23.1,17.6,18.7,16.2,18.9,15.2,22.5,10.0,21.1,29.3,17.8,27.1,16.8,18.0,28.3,16.5,19.8,16.7,23.2,23.6,18.5,29.8,24.2,22.4,29.3,29.3,21.5,15.5,23.0,12.8,20.8,11.5,20.0,15.2,18.7,17.2,22.5,13.5,13.1,17.6,12.1,23.2,18.0,24.2,7.3,17.0,17.0,22.7,22.1,18.0,15.6,13.9,17.7,14.7,26.1,12.2,20.3,17.8,16.5,10.2,18.2,22.2,26.3,26.6,19.2,19.5,14.3,15.6,13.9,20.2,11.6,31.2,6.3,23.4,21.1,22.0,8.5,11.5,19.3,17.7,11.9,14.8,16.9,16.1,13.0,17.9,22.0,14.2,13.9,25.4,21.1,16.3,16.4,19.3,18.3,23.0,27.4,24.2,14.9,12.7,16.7,17.8,19.5,14.9,23.9,15.2,25.4,22.9,25.2,12.7,26.0,26.7,15.8,24.9,24.4,15.5,20.0,7.8,20.6,19.0,29.8,14.1,14.1,17.8,24.9,20.7,19.8,24.2,16.7,21.3,23.7,20.9,23.6,25.3,9.9,21.7,16.7,10.3,18.9,25.2,12.7,27.4,21.4,23.0,11.8,22.1,13.0,20.0,27.2,19.8,16.9,18.8,25.0,9.0,19.0,11.1,19.6,24.0,29.3,20.7,10.7,26.9,18.6,21.5,26.2,21.5,27.9,22.1,25.1,27.9,18.9,26.4,20.0,25.6,27.5,17.7,18.9,27.0,14.9,27.6,19.6,18.1,19.2,20.2,16.4,16.6,14.1,8.9,17.6,17.3,21.0,14.3,18.7,19.9,12.3,24.4,23.3,25.1,27.9,15.1,18.3,23.2,17.8,15.5,22.0,23.0,20.4,15.5,22.8,19.5,22.2,22.3,25.1,15.0,19.9,23.8,18.8,17.0,7.9,24.0,31.4,17.6,27.4,28.1,17.9,18.3,17.3,21.6,17.8,22.4,19.2,22.8,21.4,19.1,22.4,29.4,13.6,15.0,28.8,18.2,25.8,15.1,23.6,12.2,10.1,15.4,27.0,17.2,11.6,20.8,18.8,20.4,18.1,20.9,31.1,19.0,18.5,17.9,23.1,32.0,21.7,23.4,17.1,19.0,18.1,19.3,18.8,25.8,19.8,22.1,15.8,15.9,21.3,18.4,17.8,23.1,22.2,15.3,20.0,20.8,30.2,24.0,12.6,9.2,21.7,19.8,16.6,16.5,18.0,21.1,10.0,23.5,26.9,23.7,16.8,12.7,29.8,17.9,18.6,19.9,23.6,26.4,18.2,18.1,19.2,15.3,19.4,20.2,33.2,26.2,26.9,15.3,18.9,18.3,27.6,29.0,22.5,30.2,22.8,13.8,21.4,27.3,25.1,26.7,7.9,27.3,21.9,15.6,18.1,19.9,23.0,22.9,15.0,16.5,18.9,24.8,4.9,16.7,20.2,7.9,19.3,16.1,22.5,27.4,29.6,18.7,21.9,9.9,24.6,10.1,21.5,20.6,11.4,14.0,18.4,6.5,12.8,25.5,19.5,14.6,20.5,18.9,14.8,21.7,17.3,33.1,23.1,25.1,30.2,17.0,13.2,29.2,14.8,13.5,22.3,9.0,19.2,19.1,20.4,14.2,20.6,19.3,27.6,21.4,15.5,23.4,13.2,12.1,23.2,33.8,17.5,19.1,23.2,12.6,24.6,14.6,19.5,20.1,13.4,12.4,14.6,16.8,27.5,19.5,11.5,15.4,24.0,21.1,21.8,29.1,18.9,21.3,18.9,20.1,13.7,19.7,17.0,34.0,24.0,16.9,19.3,19.9,19.4,19.3,21.5,20.8,20.1,27.1,23.5,22.9,19.4,14.8,28.6,23.2,8.7,30.1,19.1,15.1,22.3,17.4,23.8,18.1,20.4,23.1,22.4,13.7,25.5,25.9,21.3,21.6,21.4,29.7,18.1,10.3,23.6,21.0,13.1,10.6,20.8,21.7,19.4,21.4,25.1,16.6,11.1,13.8,21.1,22.0,20.8,19.1,24.4,15.2,25.1,19.2,10.5,21.8,17.5,19.6,8.2,22.1,21.8,13.6,15.1,28.4,22.0,28.6,25.3,29.3,19.1,20.8,10.8,23.6,13.5,23.2,16.9,22.9,21.3,21.8,31.3,21.1,17.1,25.5,26.1,19.2,19.9,26.4,34.9,17.4,24.2,17.5,21.7,11.3,4.9,21.3,17.2,15.6,22.4,28.2,22.3,21.3,20.5,18.4,17.5,9.7,21.4,12.8,20.0,20.7,16.1,26.2,20.9,19.2,23.6,22.4,31.7,22.5,20.3,13.8,23.3,17.4,3.0,16.6,17.1,27.8,17.4,13.7,14.1,26.4,23.9,21.2,27.4,9.9,18.7,17.0,21.1,22.9,8.7,19.1,25.1,21.0,22.3,21.5,19.6,17.6,22.7,14.7,11.5,28.6,19.9,13.5,27.3,19.6,18.7,14.0,11.6,15.0,26.5,21.7,22.1,5.7,18.3,23.4,19.5,15.8,18.6,19.3,27.0,21.7,21.9,20.7,13.5,29.7,22.3,24.0,31.1,23.9,15.7,19.6])"
   ]
  },
  {
   "cell_type": "markdown",
   "id": "c5a026e7-b8e9-4d1f-be25-20bd2198c4b7",
   "metadata": {},
   "source": [
    "#### Example 2 -\n",
    "- Find Mean, Median, Mode, Range, Standard Deviation, Skewness, Kurtosis, Frequency Distribution - Histogram"
   ]
  },
  {
   "cell_type": "code",
   "execution_count": null,
   "id": "44cb009b-ab4a-4b76-99f0-8f1a1b50a137",
   "metadata": {},
   "outputs": [],
   "source": [
    "# dataset consists of Salaries of employees in an organisation\n",
    "salaries = np.array([29756,20014,20347,57214,41327,40209,93390,122004,17725,47210,44386,48407,16837,83731,9130,66723,72525,57347,10941,18726,8913,59251,13090,37983,134656,45499,59533,82998,31440,11672,16295,30676,21822,35263,27340,65522,23380,11662,7066,22403,41230,46693,22478,82491,7347,16263,72672,20522,38409,30175,31383,98820,13605,45096,12397,90988,6602,29786,102559,31790,29768,50085,22649,24426,4059,95210,68657,17799,37370,46160,35133,40969,57201,54757,17973,13610,46004,91341,24474,48005,9473,10277,71287,9383,36492,104352,13473,51293,51911,10026,39992,125885,44462,76531,41512,47267,33231,14180,44474,55702,39554,8359,51892,98574,43638,90568,40508,34129,98497,74784,63383,47197,83519,26458,38642,9629,18404,47324,15793,120345,61126,64613,57964,47582,77944,27082,51891,98126,69008,23284,49785,72406,56418,36769,58715,42999,47333,45733,141091,3848,57584,48356,95301,95269,49894,101380,44028,54577,71055,32066,26596,66653,3179,44484,62889,62952,50903,74656,50733,38180,59410,105003,73854,33579,150293,26348,6769,26315,53038,35766,50517,64714,27523,26867,46607,9882,60052,46653,42143,37371,14475,103629,55402,6149,65128,32861,27603,75553,35641,21457,106916,50369,37731,6473,73858,7716,21144,34340,27917,18150,49270,16344,84532,28616,18452,84678,17990,26463,13671,70005,26237,7245,16941,64383,3317,7275,26981,12600,36983,40054,7283,82140,65120,8259,44235,30682,68578,80737,14009,88942,48374,43148,11447,32203,67168,50149,8607,9680,35442,47306,67316,52503,89884,18337,11798,40659,90852,25479,4737,107231,40006,34020,61695,12128,14126,71024,42150,54591,93625,23809,9698,50910,75967,36494,53497,28006,16650,50352,42133,10915,50698,19962,30772,23430,75790,72083,162101,75728,60565,40074,58299,18280,128972,76801,38314,12744,25607,22188,31862,15955,31175,11044,44390,49677,33251,85617,81684,48054,63108,33461,39505,51449,47547,49199,152777,49820,23147,35010,44921,39633,16546,35436,32229,28603,31804,21668,102866,58514,140647,22149,26732,88552,77813,75665,38038,123394,9457,28241,52657,9075,148287,70362,27398,18672,19003,17600,114609,4318,19729,23148,32015,87090,5342,56550,38458,5400,50686,46353,14777,19302,16606,21645,37117,22488,5465,28650,57321,34736,43956,37151,9776,37461,17631,98557,18773,15927,62892,35395,23658,27429,22496,60550,36644,38050,79320,7934,30101,71573,14389,4701,31291,11384,39725,123530,44408,58972,95799,10389,46232,3432,40560,35984,4665,169950,111402,18065,21540,70358,51973,26344,101435,5668,28783,6701,64979,30591,53626,89555,54550,47720,72312,32532,81224,32367,12856,45452,23288,68436,11028,48698,59988,25334,12898,76129,76496,66076,28330,66192,34221,24405,81851,52335,38502,25430,29421,7258,23734,12534,60625,23697,17543,35830,5033,17253,27189,48127,91649,58796,46586,42569,40202,70022,3922,41658,66536,67928,13621,71191,63947,89954,7543,20366,73226,55216,63823,20147,28646,62441,10910,21883,40687,5770,12349,59303,82027,45440,12710,126532,87569,69111,27004,13098,37670,125784,37616,46404,36971,20823,44255,53184,53752,9362,16464,13631,24283,57198,27205,60289,35590,21193,59034,71649,40198,22347,37446,30613,39731,23986,65414,6705,23140,42971,9792,23886,16397,17598,42024,32014,78351,31432,3978,34883,19845,10204,56595,25611,58573,31771,60213,24678,85938,22206,27750,43462,24977,22131,65617,70257,71995,75183,106608,54436,44381,61439,41163,81099,34095,36953,14703,23992,105384,20334,34145,48786,72804,71943,32757,77178,6381,77041,85234,31634,62231,7004,66194,23721,18122,82066,43339,13417,28110,26647,11703,160005,55765,78251,35519,22708,66840,6126,37952,31632,55294,13842,57847,43009,57445,41641,13437,41892,8126,55609,71439,65768,3032,12225,16758,12150,110890,58822,80581,12690,69074,49169,118185,9745,24482,35611,21100,13245,25269,26177,60738,119320,13615,120677,36560,14048,16249,73591,11789,42419,8691,44373,5698,38758,39244,36214,7654,26381,42371,42425,5167,38173,28250,11362,41671,38101,22759,29654,16846,42528,32035,51949,34841,65641,94153,55081,42157,53629,5482,6064,33333,53055,38653,54655,25486,28830,18681,38431,89032,38939,44533,44382,7073,93080,39698,68653,14900,4180,26923,27360,30629,33018,23166,4915,50098,31775,14625,48831,53413,50677,16354,24128,49869,23038,53312,43846,11263,19507,11322,86895,60729,144564,33429,36964,4437,48013,39779,71605,45697,20501,3059,39338,3228,22719,37974,72431,8486,24363,19558,64046,35799,20259,79873,13544,36404,55886,13904,42955,43750,17743,107390,86058,40137,65042,29084,8999,6357,29914,45867,75705,19543,64725,60567,58452,5015,50256,60877,91907,42209,13678,7797,23545,65227,86909,18614,12483,34314,52497,28754,112096,30756,16519,18075,9958,14076,16114,5200,40241,14275,53117,50561,27253,3998,85851,32716,44901,40698,42272,67106,73621,23828,50619,64147,89432,67240,119266,15347,50315,39374,27347,21786,7037,33320,9277,14225,25474,50546,61235,64796,38341,46464,38388,53785,8315,29782,35079,5943,9616,73662,52409,28236,40773,84419,49739,8678,46548,16583,15864,5920,42891,6635,91882,54534,32013,105413,11681,18153,98213,60754,53642,40221,43931,60076,9481,17046,26098,22609,21386,2797,11266,59378,57464,46271,10182,53724,89160,33549,19557,8022,43213,62795,42025,74820,49326,55701,65268,49257,38526,47121,32407,100592,21980,10691,10664,13298,58489,81011,24481,30354,5334,11554,62781,80241,17457,13682,12911,32340,54094,4987,15562,19126,58105,62497,34333,74015,78119,27715,20098,37580,14200,24208,36266,68885,66174,3965,143792,35892,43824,14009,7294,69932,11540,31644,55554,6756,69754,65940,26128,88712,11048,14382,34369,3908,30339,9290,22745,49669,93604,62655,50036,60244,52406,44821,37915,4894,38413,44612,19168,26668,20326,45231,12448,35082,121782,4863,7291,24332,42551,28462,67887,21226,41026,137990,53668,40922,15485,21118,118903,77715,24519,58873,61054,25674,2960,30624,103189,48284,40536,56053,37084,50773,11615,83270,4311,30367,6372,56358,14518,10602,35857,93798,51500,69148,51610,27676,16157,92788,4395,23687,11944,57418,71058,37037,23290,34201,84364,68400,24135,18615,15050,113480,83720,52761,26031,43187,11278,3710,27465,97386,3393,65371,5707,106125,46278,12099,17823,39132,34422])"
   ]
  },
  {
   "cell_type": "markdown",
   "id": "0cf4f433-b720-4298-8f76-11779e3c4835",
   "metadata": {},
   "source": [
    "#### Example 3 -\n",
    "- Find Mean, Median, Mode, Range, Standard Deviation, Skewness, Kurtosis, Frequency Distribution - Histogram"
   ]
  },
  {
   "cell_type": "code",
   "execution_count": null,
   "id": "73d20ea7-7ffc-4292-b0e4-e1bef2532923",
   "metadata": {},
   "outputs": [],
   "source": [
    "# dataset consists of life-expectancy data \n",
    "life_expectancy = np.array([52, 61, 58, 75, 74, 77, 58, 74, 54, 65, 67, 75, 74, 70, 36, 65, 35,55, 64, 28, 46, 52, 75, 42, 64, 75, 44, 65, 58, 65, 45, 73, 79, 48,55, 65, 53, 66, 56, 40, 76, 52, 77, 63, 74, 53, 22, 43, 33, 75, 60,58, 44, 69, 73, 36, 74, 72, 65, 56, 67, 68, 56, 67, 62, 59, 68, 53,59, 61, 59, 77, 76, 70, 78, 74, 64, 15, 42, 65, 70, 65, 64, 67, 65,66, 25, 65, 63, 75, 78, 63, 81, 80, 82, 66, 42, 26, 64, 72, 59, 78,69, 73, 79, 65, 60, 39, 64, 44, 77, 74, 42, 13, 73, 64, 65, 75, 78,72, 49, 75, 65, 59, 40, 70, 31, 58, 61, 79, 56, 67, 79, 61, 48, 68,52, 79, 70, 70, 59, 53, 75, 63, 31, 25, 63, 79, 60, 77, 77, 64, 33,52, 64, 40, 59, 80, 36, 64, 61, 54, 73, 21, 67, 45, 77, 78, 56, 32,81, 69, 82, 33, 16, 41, 79, 34, 77, 71, 74, 73, 44, 33, 59, 74, 43,67, 63, 73, 58, 59, 65, 55, 64, 76, 71, 60, 79, 76, 62, 50, 42, 72,60, 77, 44, 72, 54, 58, 56, 40, 61, 25, 47, 66, 74, 79, 62, 69, 22,67, 71, 40, 74, 80, 45, 68, 64, 55, 48, 52, 48, 49, 60, 62, 57, 23,67, 72, 76, 69, 56, 67, 58, 40, 78, 50, 53, 73, 66, 69, 73, 73, 37,60, 65, 60, 60, 68, 50, 33, 68, 24, 79, 52, 78, 30, 58, 81, 72, 79,75, 52, 51, 74, 66, 65, 41, 53, 57, 76, 63, 64, 48, 48, 77, 52, 60,61, 52, 39, 71, 26, 54, 68, 77, 64, 67, 62, 40, 67, 66, 47, 33, 69,74, 76, 62, 69, 54, 67, 33, 71, 56, 41, 79, 37, 64, 37, 70, 49, 60,74, 79, 65, 79, 79, 75, 78, 72, 76, 31, 70, 24, 59, 28, 78, 61, 75,40, 51, 74, 53, 72, 71, 55, 67, 39, 60, 67, 60, 72, 81, 75, 52, 63,66, 38, 57, 58, 71, 40, 72, 70,  6, 81, 41, 79, 46, 28, 48, 50, 65,76, 75, 32, 75, 70, 46, 73, 61, 48, 55, 41, 52, 48, 53, 62, 65, 69,18, 79, 78, 66, 65, 72, 65, 69, 69, 75, 83, 62, 78, 51, 46, 47, 46,82, 76, 64, 54, 72, 62, 47, 59, 63, 72, 55, 63, 78, 68, 73, 82, 61,47, 52, 78, 75, 42, 53, 65, 60, 48, 59, 52, 58, 76, 63, 76, 58, 67,40, 69, 74, 48, 60, 56, 75, 75, 54, 26, 50, 67, 59, 50, 70, 70, 62,38, 42, 63, 39, 72, 63, 42, 79, 69, 53, 59, 72, 75, 65, 37, 71, 39,43, 64, 84, 75, 80, 54, 66, 44, 60, 72, 73, 50, 62, 62, 58, 42, 61,80, 55, 73, 59, 60, 67, 50, 64, 74, 58, 73, 60, 57, 30, 70, 72, 63,54, 77, 56, 53, 73, 49, 75, 49, 47, 71, 77, 19, 77, 72, 63, 49, 67,65, 47, 71, 77, 71, 71, 53, 78, 76, 67, 65, 61, 60, 21, 60, 59, 68,43, 64, 76, 59, 72, 64, 38, 61, 65, 77, 64, 52, 78, 80, 35, 37, 80,58, 62, 71, 23, 67, 39, 67, 62, 52, 49, 61, 76, 66, 59, 42, 68, 75,60, 52, 73, 60, 70, 62, 74, 74, 61, 51, 23,  2, 39, 69, 52, 40, 46,72, 82, 77, 71, 82, 75, 77, 37, 52, 53, 70, 69, 65, 29, 54, 55, 55,75, 62, 46, 66, 77, 75, 73, 77, 71, 72, 77, 55, 51, 58, 66, 58, 80,75, 47, 78, 59, 66, 30, 76, 63, 57, 29, 53, 78, 71, 48, 58, 45, 59,63, 46, 68, 73, 69, 42, 63, 76, 59, 61, 65, 55, 70, 68, 38, 21, 64,71, 74, 77, 61, 67, 73, 78, 49, 31, 46, 64, 72, 33, 68, 76, 82, 59,59, 52, 66, 63, 11, 61, 74, 60, 61, 73, 54, 70, 45, 42, 58, 73, 36,82, 75, 51, 79, 58, 59, 68,  0, 78, 52, 61, 65, 73, 46, 81, 63, 27,82, 68, 80, 61, 79, 69, 42, 66, 52, 45, 62, 27, 76, 62, 64, 67, 43,51, 71, 77, 43, 24, 53, 52, 36, 52, 76, 69, 65, 73, 62, 68, 70, 75,70, 48, 58, 56, 66, 55, 62, 77, 62, 65, 51, 70, 60, 76, 74, 65, 72,62, 72, 42, 41, 43, 77, 68, 76, 76, 72, 56, 80, 77, 66, 57,  5, 72,67, 78, 81, 77, 66, 35, 54, 37, 42, 71, 78, 66, 68, 33, 25, 54,  8,72, 63, 38, 45, 67, 56, 64, 36, 54, 70, 71, 64, 72, 57, 59, 66, 51,77, 72, 36, 71, 70, 80, 39, 72, 74, 50, 58, 79, 25, 35, 61, 63, 50,68, 60, 82, 58, 14, 32, 77, 70, 65, 81, 73, 48, 67, 67, 30, 69, 69,59, 67, 74, 46, 53, 64, 75, 67, 54, 75, 61, 67, 19, 30, 62, 70, 76,47, 70, 73, 34, 57, 71, 56, 68, 44, 38, 47, 66, 72, 46, 68, 72, 44,58, 42, 62, 79, 45, 75, 37, 44, 24, 78, 52, 40, 75, 45, 52, 34, 74,82,  6, 78, 70, 36, 42, 75, 58, 20,  4, 53, 57, 69, 71, 53, 61, 26,67, 60, 76, 44, 68, 78, 80, 76, 55, 66, 67, 69, 71, 58, 69, 42, 53,35, 74, 56, 59, 41, 71, 64, 49, 68, 58, 69, 52, 75, 47, 77, 63, 53,42, 44, 72, 60, 59, 55, 57, 35, 78, 66, 73, 61, 47, 74, 75, 71, 45,43, 60, 53, 54, 79, 69, 46, 57, 64, 58, 36, 51, 77, 64, 72, 64, 44,54, 69, 59, 54, 58, 59, 68, 58, 75, 73, 62, 78, 51, 60])"
   ]
  },
  {
   "cell_type": "markdown",
   "id": "781b2395-b3aa-445e-a4f3-ab1ce7147085",
   "metadata": {},
   "source": [
    "### Handling Null/Missing Values"
   ]
  },
  {
   "cell_type": "code",
   "execution_count": null,
   "id": "12713f57-26fe-4d9c-90f1-f41747f833dd",
   "metadata": {},
   "outputs": [],
   "source": []
  },
  {
   "cell_type": "markdown",
   "id": "29f6e8b0-4420-40b8-b260-1724b8463942",
   "metadata": {},
   "source": [
    "### Handling Outliers - \n",
    "\n",
    "#### `Z-Score Method:`\n",
    "\n",
    "- The z-score method involves calculating the z-score for each data point, which represents the number of standard deviations away from the mean.\n",
    "Data points with z-scores beyond a certain threshold (e.g., |z-score| > 3) are considered outliers and can be removed or treated separately.\n",
    "The z-score method is sensitive to the mean and standard deviation of the data, and it assumes that the data is normally distributed.\n",
    "This method is useful when the data is approximately normally distributed and when the goal is to identify outliers based on their deviation from the mean.\n",
    "\n",
    "#### `IQR Method:`\n",
    "\n",
    "- The IQR method involves calculating the interquartile range (IQR), which is the difference between the third quartile (Q3) and the first quartile (Q1) of the data.\n",
    "Outliers are defined as data points that fall below Q1 - 1.5 * IQR or above Q3 + 1.5 * IQR.\n",
    "The IQR method is robust to outliers and does not assume any specific distribution of the data.\n",
    "This method is useful when the data is skewed or not normally distributed, as it focuses on the middle 50% of the data and is less influenced by extreme values.\n",
    "In general, if the data is approximately normally distributed and the goal is to identify outliers based on their deviation from the mean, the z-score method may be more appropriate. On the other hand, if the data is skewed or not normally distributed, or if the goal is to identify outliers based on their relative position within the dataset, the IQR method may be a better choice."
   ]
  },
  {
   "cell_type": "code",
   "execution_count": null,
   "id": "5b882bff-5857-4228-a341-189251f844a2",
   "metadata": {},
   "outputs": [],
   "source": []
  },
  {
   "cell_type": "markdown",
   "id": "5012eb6b-f87e-4035-80b2-d23e73a0d062",
   "metadata": {},
   "source": [
    "### Univariate Analysis\n",
    "Univariate analysis is a statistical method used to describe and analyze data consisting of only one variable. It focuses on understanding the characteristics and distribution of a single variable without considering the relationship with other variables.\n",
    "\n",
    "- Descriptive Statistics\n",
    "- Frequency Distribution\n",
    "- Measures of Central Tendency\n",
    "- Measures of Dispersion\n",
    "- Visualization:\n",
    "    - Box plots: Displaying the distribution of data using quartiles.\n",
    "    - Histograms: Showing the frequency distribution of continuous variables.\n",
    "    - Bar charts: Displaying the frequency distribution of categorical variables.\n",
    "- Probability Distribution:\n",
    "  - Normal distribution: Assessing if the data follows a normal distribution using graphical methods or statistical tests."
   ]
  },
  {
   "cell_type": "markdown",
   "id": "422bc709-bc3b-49fe-a8eb-e580e854476d",
   "metadata": {},
   "source": [
    "###### Descriptive statistics"
   ]
  },
  {
   "cell_type": "code",
   "execution_count": null,
   "id": "e5f39287-501b-4198-8657-a36aff19c23f",
   "metadata": {},
   "outputs": [],
   "source": []
  },
  {
   "cell_type": "markdown",
   "id": "5d43445d-c7be-4621-b1b6-06864048a065",
   "metadata": {},
   "source": [
    "###### Historgram"
   ]
  },
  {
   "cell_type": "code",
   "execution_count": null,
   "id": "869fb8a9-cf25-4b69-a3dd-139e2aab355b",
   "metadata": {},
   "outputs": [],
   "source": []
  },
  {
   "cell_type": "markdown",
   "id": "d4772b95-568c-4471-97c5-78ecc3380052",
   "metadata": {},
   "source": [
    "###### Boxplot"
   ]
  },
  {
   "cell_type": "code",
   "execution_count": null,
   "id": "ca4e4a55-a524-4e04-958d-2a870c14d6c8",
   "metadata": {},
   "outputs": [],
   "source": []
  },
  {
   "cell_type": "markdown",
   "id": "7828cd2a-7724-4dfe-8154-04e7e823f3e0",
   "metadata": {},
   "source": [
    "###### Countplot"
   ]
  },
  {
   "cell_type": "code",
   "execution_count": null,
   "id": "6d02e78b-57d1-48be-9201-d198e02ceec7",
   "metadata": {},
   "outputs": [],
   "source": []
  },
  {
   "cell_type": "markdown",
   "id": "e560d807-bce5-45a7-bcc8-8b2773a911e6",
   "metadata": {},
   "source": [
    "### Bivariate Analysis\n",
    "\n",
    "Bivariate analysis is a statistical method used to analyze the relationship between two variables simultaneously. \n",
    "\n",
    "#### Numerical-Numerical Analysis:\n",
    "\n",
    "- Scatter Plots: Scatter plots with a regression line can show the relationship between two continuous variables. Each data point represents a combination of values from both variables.\n",
    "\n",
    "- Correlation Analysis: Quantifies the strength and direction of the linear relationship between two continuous variables. Pearson correlation coefficient (r) measures the degree of linear association between variables. \n",
    "\t- It ranges from -1 to 1, where:\n",
    "\t- r = 1: Perfect positive correlation\n",
    "\t- r = -1: Perfect negative correlation\n",
    "\t- r = 0: No correlation\n",
    "\n",
    "#### Categorical-Categorical Analysis:\n",
    "\n",
    "- Contingency tables (also known as cross-tabulations) display the frequency distribution of categories for two categorical variables. \n",
    "\n",
    "#### Categorical-Numerical Analysis:\n",
    "\n",
    "- Box plots or bar charts with groupings display the distribution of a numerical variable across different categories of a categorical variable.\n"
   ]
  },
  {
   "cell_type": "code",
   "execution_count": null,
   "id": "53ae5a4b-c01b-4659-af30-5739973896ea",
   "metadata": {},
   "outputs": [],
   "source": []
  },
  {
   "cell_type": "markdown",
   "id": "421ce59e-9b69-47d0-bd6d-923f59730b87",
   "metadata": {},
   "source": [
    "###### Ex. Display Monthly consumption across cities"
   ]
  },
  {
   "cell_type": "code",
   "execution_count": null,
   "id": "a6ce9c6d-11d5-4642-b738-1b6f8e13e0eb",
   "metadata": {},
   "outputs": [],
   "source": []
  },
  {
   "cell_type": "markdown",
   "id": "939d2df1-bac6-4723-870b-1397083af11d",
   "metadata": {},
   "source": [
    "###### Ex. Display average consumption across companies using bar chart"
   ]
  },
  {
   "cell_type": "code",
   "execution_count": null,
   "id": "dc555291-e7ff-492d-9d7d-5d6275a58d73",
   "metadata": {},
   "outputs": [],
   "source": []
  },
  {
   "cell_type": "markdown",
   "id": "e54e741b-0a26-4b5e-a608-3cd4bf390afe",
   "metadata": {},
   "source": [
    "###### Ex. Display consumption across cities using pie chart"
   ]
  },
  {
   "cell_type": "code",
   "execution_count": null,
   "id": "318087ea-45d5-4bc0-b18a-b8336829f6e0",
   "metadata": {},
   "outputs": [],
   "source": []
  },
  {
   "cell_type": "markdown",
   "id": "893759dd-3581-4f2b-ad1c-231bdab6d0c1",
   "metadata": {},
   "source": [
    "## Intoduction to Machine Learning\n",
    "\n",
    "Machine learning is a branch of artificial intelligence (AI) that focuses on the development of algorithms and statistical models that enable computers to learn and improve their performance on a specific task or problem without being explicitly programmed. In essence, it involves creating and training models that can learn from data and make predictions or decisions based on that data.\n",
    "\n",
    "The core idea behind machine learning is to use data to uncover patterns, relationships, and insights that can be used to make predictions or take actions. This is typically done through the following steps:\n",
    "\n",
    "1. Data Collection: Gathering relevant data from various sources, which may include structured data (e.g., databases) and unstructured data (e.g., text, images, videos).\n",
    "\n",
    "2. Data Preprocessing: Cleaning, transforming, and preparing the data for analysis. This may involve tasks such as handling missing values, encoding categorical variables, and scaling numerical features.\n",
    "\n",
    "3. Model Training: Selecting an appropriate machine learning algorithm and training a model on the prepared data. During training, the model learns patterns and relationships in the data by adjusting its internal parameters.\n",
    "\n",
    "4. Model Evaluation: Assessing the performance of the trained model using evaluation metrics and validation techniques. This helps determine how well the model generalizes to new, unseen data.\n",
    "\n",
    "5. Model Deployment: Deploying the trained model to make predictions or decisions on new, real-world data. This may involve integrating the model into existing systems or applications.\n",
    "\n",
    "\n",
    "### Machine learning Categories:\n",
    "\n",
    "- Supervised Learning: In supervised learning, the model is trained on labeled data, where each example in the training dataset is associated with a target label or output. The goal is to learn a mapping from input features to output labels, allowing the model to make predictions on new, unseen data.\n",
    "\n",
    "- Unsupervised Learning: In unsupervised learning, the model is trained on unlabeled data, and the goal is to uncover hidden patterns or structures in the data. This may involve tasks such as clustering similar data points together or dimensionality reduction.\n",
    "\n",
    "- Reinforcement Learning: In reinforcement learning, the model learns to make decisions by interacting with an environment and receiving feedback or rewards. The goal is to learn a policy that maximizes the cumulative reward over time.\n",
    "\n",
    "### Types of Supervised Learning\n",
    "\n",
    "- Classification: Classification is a type of supervised learning where the goal is to predict the categorical class labels of new instances based on past observations. In classification, the output variable is discrete and belongs to a specific class or category. Some common classification algorithms include:\n",
    "\n",
    "\t- Logistic Regression\n",
    "\t- Decision Trees\n",
    "\t- Random Forest\n",
    "\t- Support Vector Machines (SVM)\n",
    "\t- k-Nearest Neighbors (k-NN)\n",
    "\t- Naive Bayes\n",
    "\n",
    "- Regression: Regression is another type of supervised learning where the goal is to predict continuous numerical values based on input features. In regression, the output variable is continuous and can take any value within a range. Some common regression algorithms include:\n",
    "\n",
    "\t- Linear Regression\n",
    "\t- Polynomial Regression\n",
    "\t- Ridge Regression\n",
    "\t- Lasso Regression\n",
    "\t- Support Vector Regression (SVR)\n",
    "\t- Decision Tree Regression"
   ]
  },
  {
   "cell_type": "markdown",
   "id": "3a4dca3f-6135-4936-8387-46bc69062576",
   "metadata": {},
   "source": [
    "###### Ex. Import data from predictive_matintenance.csv"
   ]
  },
  {
   "cell_type": "code",
   "execution_count": null,
   "id": "9463ce17-95b7-46d3-a13e-114a86d02385",
   "metadata": {},
   "outputs": [],
   "source": []
  },
  {
   "cell_type": "markdown",
   "id": "ea354c0f-267c-47b8-9927-865a4f762372",
   "metadata": {},
   "source": [
    "###### Ex. Drop and rename columns as needed."
   ]
  },
  {
   "cell_type": "code",
   "execution_count": null,
   "id": "5457cbe9-3233-49e6-9e73-84fd8daa71a9",
   "metadata": {},
   "outputs": [],
   "source": []
  },
  {
   "cell_type": "markdown",
   "id": "796e74fb-dad3-4ce1-83c6-e29eda5c2b66",
   "metadata": {},
   "source": [
    "###### Ex. Check for null values"
   ]
  },
  {
   "cell_type": "code",
   "execution_count": null,
   "id": "a7f0c334-f586-4928-945a-cc165bc4291d",
   "metadata": {},
   "outputs": [],
   "source": []
  },
  {
   "cell_type": "markdown",
   "id": "227194a9-3b49-46d4-936e-c5850d8f65f5",
   "metadata": {},
   "source": [
    "###### Ex. Check for outliers"
   ]
  },
  {
   "cell_type": "code",
   "execution_count": null,
   "id": "817dabf3-235c-4065-aa95-5f663d87dafd",
   "metadata": {},
   "outputs": [],
   "source": []
  },
  {
   "cell_type": "markdown",
   "id": "3bbd71d6-eb25-446d-9ceb-b7fcd15d89e6",
   "metadata": {},
   "source": [
    "###### Encode categorical features"
   ]
  },
  {
   "cell_type": "code",
   "execution_count": null,
   "id": "1c762cd9-9bd1-456d-9453-48234676abce",
   "metadata": {},
   "outputs": [],
   "source": []
  },
  {
   "cell_type": "markdown",
   "id": "7e687092-1245-4d81-87ac-9e660c0d84d1",
   "metadata": {},
   "source": [
    "###### Ex. Extract features and labels"
   ]
  },
  {
   "cell_type": "code",
   "execution_count": null,
   "id": "c00055f6-34d8-4e05-a2fc-0f20c48c191f",
   "metadata": {},
   "outputs": [],
   "source": []
  },
  {
   "cell_type": "markdown",
   "id": "c5f001b8-70de-4522-bfdb-d6c3a466752b",
   "metadata": {},
   "source": [
    "###### Ex. Splitting into training and testing sets"
   ]
  },
  {
   "cell_type": "code",
   "execution_count": null,
   "id": "6fd1c01e-3d84-4907-9dcd-95f08fb0c2a8",
   "metadata": {},
   "outputs": [],
   "source": []
  },
  {
   "cell_type": "markdown",
   "id": "ba75ae71-6253-4013-a69d-faaa132fa2fd",
   "metadata": {},
   "source": [
    "###### Ex. Building Classiffication model"
   ]
  },
  {
   "cell_type": "code",
   "execution_count": null,
   "id": "ce89711e-926e-4c85-8998-eb7f0aa30400",
   "metadata": {},
   "outputs": [],
   "source": []
  },
  {
   "cell_type": "markdown",
   "id": "6e4ba9b2-5a2d-4ac7-8e0d-cd78aad15abc",
   "metadata": {},
   "source": [
    "###### Ex. Predict values for the test data"
   ]
  },
  {
   "cell_type": "code",
   "execution_count": null,
   "id": "252cc524-94ed-4efe-9158-836f1a50aeb2",
   "metadata": {},
   "outputs": [],
   "source": []
  },
  {
   "cell_type": "markdown",
   "id": "30d60897-4f59-46e4-a8b5-1bd0d6b1cdbc",
   "metadata": {},
   "source": [
    "###### Ex. Evaluting the model"
   ]
  },
  {
   "cell_type": "code",
   "execution_count": null,
   "id": "c817f52e-98a1-4d11-a0e0-17a12ed8412f",
   "metadata": {},
   "outputs": [],
   "source": []
  }
 ],
 "metadata": {
  "kernelspec": {
   "display_name": "Python 3 (ipykernel)",
   "language": "python",
   "name": "python3"
  },
  "language_info": {
   "codemirror_mode": {
    "name": "ipython",
    "version": 3
   },
   "file_extension": ".py",
   "mimetype": "text/x-python",
   "name": "python",
   "nbconvert_exporter": "python",
   "pygments_lexer": "ipython3",
   "version": "3.12.4"
  }
 },
 "nbformat": 4,
 "nbformat_minor": 5
}
